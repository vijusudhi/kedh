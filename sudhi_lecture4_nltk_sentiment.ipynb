{
 "cells": [
  {
   "cell_type": "code",
   "execution_count": 1,
   "metadata": {
    "id": "54KVmbWPCZGn"
   },
   "outputs": [],
   "source": [
    "from pprint import pprint"
   ]
  },
  {
   "cell_type": "code",
   "execution_count": 83,
   "metadata": {
    "colab": {
     "base_uri": "https://localhost:8080/"
    },
    "id": "PWKNdGbu-BjI",
    "outputId": "84c9b4aa-5e7a-482e-fac0-62427adf257c"
   },
   "outputs": [
    {
     "name": "stderr",
     "output_type": "stream",
     "text": [
      "[nltk_data] Downloading package wordnet to /root/nltk_data...\n",
      "[nltk_data]   Package wordnet is already up-to-date!\n",
      "[nltk_data] Downloading package stopwords to /root/nltk_data...\n",
      "[nltk_data]   Package stopwords is already up-to-date!\n",
      "[nltk_data] Downloading package punkt to /root/nltk_data...\n",
      "[nltk_data]   Package punkt is already up-to-date!\n",
      "[nltk_data] Downloading package opinion_lexicon to /root/nltk_data...\n",
      "[nltk_data]   Package opinion_lexicon is already up-to-date!\n",
      "[nltk_data] Downloading package vader_lexicon to /root/nltk_data...\n",
      "[nltk_data]   Package vader_lexicon is already up-to-date!\n"
     ]
    }
   ],
   "source": [
    "import nltk\n",
    "nltk.download('wordnet')\n",
    "nltk.download('stopwords')\n",
    "nltk.download('punkt')\n",
    "nltk.download('opinion_lexicon')\n",
    "nltk.download('vader_lexicon')\n",
    "from nltk.corpus import wordnet as wn  # to get the synsets\n",
    "from nltk.corpus import stopwords  # common stop words in English\n",
    "from nltk.tokenize import word_tokenize  # to tokenize the sentences\n",
    "from nltk.wsd import lesk # fow word sense disambiguation\n",
    "from nltk.sentiment.util import demo_liu_hu_lexicon\n",
    "from nltk.sentiment.util import demo_vader_instance\n",
    "from nltk.sentiment import SentimentIntensityAnalyzer\n",
    "from nltk.corpus import opinion_lexicon\n",
    "from nltk.tokenize import treebank\n",
    "tokenizer = treebank.TreebankWordTokenizer()"
   ]
  },
  {
   "cell_type": "code",
   "execution_count": 12,
   "metadata": {
    "id": "aOQc4xsBHJ8P"
   },
   "outputs": [],
   "source": [
    "import pandas as pd"
   ]
  },
  {
   "cell_type": "code",
   "execution_count": 24,
   "metadata": {
    "colab": {
     "base_uri": "https://localhost:8080/",
     "height": 415
    },
    "id": "MR6NYbwZHLtr",
    "outputId": "b4756e80-d072-487f-a187-8a0fc68c061f"
   },
   "outputs": [
    {
     "data": {
      "text/html": [
       "<div>\n",
       "<style scoped>\n",
       "    .dataframe tbody tr th:only-of-type {\n",
       "        vertical-align: middle;\n",
       "    }\n",
       "\n",
       "    .dataframe tbody tr th {\n",
       "        vertical-align: top;\n",
       "    }\n",
       "\n",
       "    .dataframe thead th {\n",
       "        text-align: right;\n",
       "    }\n",
       "</style>\n",
       "<table border=\"1\" class=\"dataframe\">\n",
       "  <thead>\n",
       "    <tr style=\"text-align: right;\">\n",
       "      <th></th>\n",
       "      <th>id1</th>\n",
       "      <th>id2</th>\n",
       "      <th>timestamp</th>\n",
       "      <th>topic</th>\n",
       "      <th>author</th>\n",
       "      <th>text</th>\n",
       "    </tr>\n",
       "  </thead>\n",
       "  <tbody>\n",
       "    <tr>\n",
       "      <th>0</th>\n",
       "      <td>4</td>\n",
       "      <td>3</td>\n",
       "      <td>Mon May 11 03:17:40 UTC 2009</td>\n",
       "      <td>kindle2</td>\n",
       "      <td>tpryan</td>\n",
       "      <td>@stellargirl I loooooooovvvvvveee my Kindle2. ...</td>\n",
       "    </tr>\n",
       "    <tr>\n",
       "      <th>1</th>\n",
       "      <td>4</td>\n",
       "      <td>4</td>\n",
       "      <td>Mon May 11 03:18:03 UTC 2009</td>\n",
       "      <td>kindle2</td>\n",
       "      <td>vcu451</td>\n",
       "      <td>Reading my kindle2...  Love it... Lee childs i...</td>\n",
       "    </tr>\n",
       "    <tr>\n",
       "      <th>2</th>\n",
       "      <td>4</td>\n",
       "      <td>5</td>\n",
       "      <td>Mon May 11 03:18:54 UTC 2009</td>\n",
       "      <td>kindle2</td>\n",
       "      <td>chadfu</td>\n",
       "      <td>Ok, first assesment of the #kindle2 ...it fuck...</td>\n",
       "    </tr>\n",
       "    <tr>\n",
       "      <th>3</th>\n",
       "      <td>4</td>\n",
       "      <td>6</td>\n",
       "      <td>Mon May 11 03:19:04 UTC 2009</td>\n",
       "      <td>kindle2</td>\n",
       "      <td>SIX15</td>\n",
       "      <td>@kenburbary You'll love your Kindle2. I've had...</td>\n",
       "    </tr>\n",
       "    <tr>\n",
       "      <th>4</th>\n",
       "      <td>4</td>\n",
       "      <td>7</td>\n",
       "      <td>Mon May 11 03:21:41 UTC 2009</td>\n",
       "      <td>kindle2</td>\n",
       "      <td>yamarama</td>\n",
       "      <td>@mikefish  Fair enough. But i have the Kindle2...</td>\n",
       "    </tr>\n",
       "    <tr>\n",
       "      <th>...</th>\n",
       "      <td>...</td>\n",
       "      <td>...</td>\n",
       "      <td>...</td>\n",
       "      <td>...</td>\n",
       "      <td>...</td>\n",
       "      <td>...</td>\n",
       "    </tr>\n",
       "    <tr>\n",
       "      <th>493</th>\n",
       "      <td>2</td>\n",
       "      <td>14072</td>\n",
       "      <td>Sun Jun 14 04:31:43 UTC 2009</td>\n",
       "      <td>latex</td>\n",
       "      <td>proggit</td>\n",
       "      <td>Ask Programming: LaTeX or InDesign?: submitted...</td>\n",
       "    </tr>\n",
       "    <tr>\n",
       "      <th>494</th>\n",
       "      <td>0</td>\n",
       "      <td>14073</td>\n",
       "      <td>Sun Jun 14 04:32:17 UTC 2009</td>\n",
       "      <td>latex</td>\n",
       "      <td>sam33r</td>\n",
       "      <td>On that note, I hate Word. I hate Pages. I hat...</td>\n",
       "    </tr>\n",
       "    <tr>\n",
       "      <th>495</th>\n",
       "      <td>4</td>\n",
       "      <td>14074</td>\n",
       "      <td>Sun Jun 14 04:36:34 UTC 2009</td>\n",
       "      <td>latex</td>\n",
       "      <td>iamtheonlyjosie</td>\n",
       "      <td>Ahhh... back in a *real* text editing environm...</td>\n",
       "    </tr>\n",
       "    <tr>\n",
       "      <th>496</th>\n",
       "      <td>0</td>\n",
       "      <td>14075</td>\n",
       "      <td>Sun Jun 14 21:36:07 UTC 2009</td>\n",
       "      <td>iran</td>\n",
       "      <td>plutopup7</td>\n",
       "      <td>Trouble in Iran, I see. Hmm. Iran. Iran so far...</td>\n",
       "    </tr>\n",
       "    <tr>\n",
       "      <th>497</th>\n",
       "      <td>0</td>\n",
       "      <td>14076</td>\n",
       "      <td>Sun Jun 14 21:36:17 UTC 2009</td>\n",
       "      <td>iran</td>\n",
       "      <td>captain_pete</td>\n",
       "      <td>Reading the tweets coming out of Iran... The w...</td>\n",
       "    </tr>\n",
       "  </tbody>\n",
       "</table>\n",
       "<p>498 rows × 6 columns</p>\n",
       "</div>"
      ],
      "text/plain": [
       "     id1  ...                                               text\n",
       "0      4  ...  @stellargirl I loooooooovvvvvveee my Kindle2. ...\n",
       "1      4  ...  Reading my kindle2...  Love it... Lee childs i...\n",
       "2      4  ...  Ok, first assesment of the #kindle2 ...it fuck...\n",
       "3      4  ...  @kenburbary You'll love your Kindle2. I've had...\n",
       "4      4  ...  @mikefish  Fair enough. But i have the Kindle2...\n",
       "..   ...  ...                                                ...\n",
       "493    2  ...  Ask Programming: LaTeX or InDesign?: submitted...\n",
       "494    0  ...  On that note, I hate Word. I hate Pages. I hat...\n",
       "495    4  ...  Ahhh... back in a *real* text editing environm...\n",
       "496    0  ...  Trouble in Iran, I see. Hmm. Iran. Iran so far...\n",
       "497    0  ...  Reading the tweets coming out of Iran... The w...\n",
       "\n",
       "[498 rows x 6 columns]"
      ]
     },
     "execution_count": 24,
     "metadata": {
      "tags": []
     },
     "output_type": "execute_result"
    }
   ],
   "source": [
    "df = pd.read_csv(\"/content/dataset_sentiment_analysis.csv\", header=None)\n",
    "df.columns = ['id1', 'id2', 'timestamp', 'topic', 'author', 'text']\n",
    "df"
   ]
  },
  {
   "cell_type": "code",
   "execution_count": 30,
   "metadata": {
    "id": "Qy_yxTPPA3PN"
   },
   "outputs": [],
   "source": [
    "def remove_stop_words(tokens):\n",
    "  \"\"\"\n",
    "  this function removes the stop words from the list of tokens\n",
    "  \"\"\"\n",
    "  # Get the list of common stop words in English from WordNet\n",
    "  stop_words = stopwords.words('english')\n",
    "  tokens_filtered = []\n",
    "  # Iterate through the list of tokens\n",
    "  for token in tokens:\n",
    "    # If the token is not a stop word, add it to the new list\n",
    "    if token not in stop_words:\n",
    "      tokens_filtered.append(token)\n",
    "  return tokens_filtered"
   ]
  },
  {
   "cell_type": "markdown",
   "metadata": {
    "id": "djIWSl4rSVop"
   },
   "source": [
    "## Opinion lexicon\n",
    "\n",
    "a list of positive and negative words"
   ]
  },
  {
   "cell_type": "code",
   "execution_count": 35,
   "metadata": {
    "colab": {
     "base_uri": "https://localhost:8080/"
    },
    "id": "mGme2kK5J3VN",
    "outputId": "21029ee2-b241-4731-9b21-ee22cd0775c4"
   },
   "outputs": [
    {
     "name": "stdout",
     "output_type": "stream",
     "text": [
      "# Positive words: 2006\n",
      "# Negative words: 4783\n"
     ]
    }
   ],
   "source": [
    "# Overview of opinion_lexicon\n",
    "print(\"# Positive words:\", len(opinion_lexicon.positive()))\n",
    "print(\"# Negative words:\", len(opinion_lexicon.negative()))"
   ]
  },
  {
   "cell_type": "code",
   "execution_count": 74,
   "metadata": {
    "id": "h9VrYhIiE97J"
   },
   "outputs": [],
   "source": [
    "def get_sents(topic_to_analyse):\n",
    "  sents = []\n",
    "  for topic, text in zip(df.topic, df.text):\n",
    "    if topic_to_analyse in topic:\n",
    "      # print(\"\\t\", text)\n",
    "      sents.append(text)\n",
    "  return sents\n",
    "\n",
    "\n",
    "def analyse_sentiment(topic_to_analyse):\n",
    "  print(\"Analysing sentiment for topic: [%s]\" % topic_to_analyse)\n",
    "  print(\"-----------------------\")\n",
    "  get_sents(topic_to_analyse)\n",
    "  print(\"-----------------------\")\n",
    "  print(\"TOT \\tPOS \\tNEG\")\n",
    "  print(\"-----------------------\")\n",
    "  total_pos, total_neg, total_neu = 0, 0, 0\n",
    "  for sent in sents:\n",
    "    # sent_filtered = remove_stop_words(word_tokenize(sent))\n",
    "    sent_filtered = [word.lower() for word in tokenizer.tokenize(sent)]\n",
    "    sent_filtered = remove_stop_words(sent_filtered) # this will reduce number of neutral words\n",
    "\n",
    "    pos_count, neg_count = 0, 0\n",
    "    for word in sent_filtered:\n",
    "      if word in opinion_lexicon.positive():\n",
    "        pos_count += 1\n",
    "      elif word in opinion_lexicon.negative():\n",
    "        neg_count += 1\n",
    "\n",
    "    if pos_count > neg_count:\n",
    "      sentiment = \"POS\"\n",
    "      total_pos += 1\n",
    "    elif neg_count > pos_count:\n",
    "      sentiment = \"NEG\"\n",
    "      total_neg += 1\n",
    "    elif pos_count == neg_count:\n",
    "      sentiment = \"NEU\"\n",
    "      total_neu += 1\n",
    "\n",
    "    print(\"%d \\t%d \\t%d \\t%s\" \n",
    "          % (len(sent_filtered), pos_count, neg_count, sentiment))\n",
    "  \n",
    "  print(\"-----------------------\")\n",
    "  print(\"# Sentences:\", len(sents))\n",
    "  print(\"# POS Sentences:\", total_pos, total_pos/len(sents)*100)\n",
    "  print(\"# NEG Sentences:\", total_neg, total_neg/len(sents)*100)\n",
    "  print(\"# NEU Sentences:\", total_neu, total_neu/len(sents)*100)"
   ]
  },
  {
   "cell_type": "code",
   "execution_count": 75,
   "metadata": {
    "colab": {
     "base_uri": "https://localhost:8080/"
    },
    "id": "WvjsShT3LuOs",
    "outputId": "71747a92-cf16-423c-efb0-90771b1cc478"
   },
   "outputs": [
    {
     "name": "stdout",
     "output_type": "stream",
     "text": [
      "Analysing sentiment for topic: [nike]\n",
      "-----------------------\n",
      "-----------------------\n",
      "TOT \tPOS \tNEG\n",
      "-----------------------\n",
      "20 \t0 \t1 \tNEG\n",
      "12 \t3 \t0 \tPOS\n",
      "30 \t0 \t4 \tNEG\n",
      "9 \t1 \t1 \tNEU\n",
      "7 \t0 \t0 \tNEU\n",
      "9 \t0 \t0 \tNEU\n",
      "4 \t0 \t2 \tNEG\n",
      "5 \t0 \t0 \tNEU\n",
      "19 \t2 \t1 \tPOS\n",
      "7 \t1 \t0 \tPOS\n",
      "4 \t0 \t1 \tNEG\n",
      "7 \t0 \t0 \tNEU\n",
      "8 \t0 \t1 \tNEG\n",
      "7 \t0 \t1 \tNEG\n",
      "6 \t0 \t1 \tNEG\n",
      "8 \t0 \t0 \tNEU\n",
      "9 \t0 \t0 \tNEU\n",
      "-----------------------\n",
      "# Sentences: 17\n",
      "# POS Sentences: 3 17.647058823529413\n",
      "# NEG Sentences: 7 41.17647058823529\n",
      "# NEU Sentences: 7 41.17647058823529\n"
     ]
    }
   ],
   "source": [
    "analyse_sentiment('nike')"
   ]
  },
  {
   "cell_type": "code",
   "execution_count": 78,
   "metadata": {
    "colab": {
     "base_uri": "https://localhost:8080/",
     "height": 378
    },
    "id": "ztz-CVkkOFPs",
    "outputId": "9628a0c4-370d-44e9-b0ad-33ea24aa6122"
   },
   "outputs": [
    {
     "name": "stdout",
     "output_type": "stream",
     "text": [
      "['Just bought my tickets for the 2010 FIFA World Cup in South Africa. Its '\n",
      " 'going to be a great summer. http://bit.ly/9GEZI']\n",
      "Positive\n"
     ]
    },
    {
     "name": "stderr",
     "output_type": "stream",
     "text": [
      "/usr/local/lib/python3.7/dist-packages/nltk/sentiment/util.py:319: MatplotlibDeprecationWarning: Adding an axes using the same arguments as a previous axes currently reuses the earlier instance.  In a future version, a new instance will always be created and returned.  Meanwhile, this warning can be suppressed, and the future behavior ensured, by passing a unique label to each axes instance.\n",
      "  axes = plt.axes()\n"
     ]
    },
    {
     "data": {
      "image/png": "[encoded data removed]",
      "text/plain": [
       "<Figure size 432x288 with 1 Axes>"
      ]
     },
     "metadata": {
      "needs_background": "light",
      "tags": []
     },
     "output_type": "display_data"
    }
   ],
   "source": [
    "sent = get_sents('World Cup 2010'.lower())\n",
    "pprint(sent)\n",
    "demo_liu_hu_lexicon(sent[0], plot=True)"
   ]
  },
  {
   "cell_type": "markdown",
   "metadata": {
    "id": "RlfJ76wrSi31"
   },
   "source": [
    "## Vader analyzer\n",
    "\n",
    "VADER (Valence Aware Dictionary for Sentiment Reasoning) is a model used for text sentiment analysis that is sensitive to both polarity (positive/negative) and intensity (strength) of emotion.\n",
    "\n",
    "For example- Words like ‘love’, ‘enjoy’, ‘happy’, ‘like’ all convey a positive sentiment. Also VADER is intelligent enough to understand the basic context of these words, such as “did not love” as a negative statement. It also understands the emphasis of capitalization and punctuation, such as “ENJOY”\n",
    "\n",
    "VADER's SentimentIntensityAnalyzer() takes in a string and returns a dictionary of scores in each of four categories:\n",
    "negative, neutral, positive, compound (computed by normalizing the scores above).\n",
    "\n",
    "Refer: https://towardsdatascience.com/sentimental-analysis-using-vader-a3415fef7664"
   ]
  },
  {
   "cell_type": "code",
   "execution_count": 86,
   "metadata": {
    "colab": {
     "base_uri": "https://localhost:8080/"
    },
    "id": "QEN_Wg_YO1XX",
    "outputId": "7f2d9da1-8a7e-4fb7-ba09-b907e2839072"
   },
   "outputs": [
    {
     "name": "stdout",
     "output_type": "stream",
     "text": [
      "('My wrist still hurts. I have to get it looked at. I HATE the '\n",
      " 'dr/dentist/scary places. :( Time to watch Eagle eye. If you want to join, '\n",
      " 'txt!')\n",
      "{'compound': -0.8491, 'neg': 0.304, 'neu': 0.596, 'pos': 0.099}\n",
      "------------\n",
      "('Dentist tomorrow. Have to brush well in the morning. Like I make my hair all '\n",
      " 'nice before I get it cut. Why?')\n",
      "{'compound': 0.6486, 'neg': 0.082, 'neu': 0.627, 'pos': 0.29}\n",
      "------------\n",
      "('THE DENTIST LIED! \" U WON\\'T FEEL ANY DISCOMORT! PROB WON\\'T EVEN NEED PAIN '\n",
      " 'PILLS\" MAN U TWIPPIN THIS SHIT HURT!! HOW MANY PILLS CAN I TAKE!!')\n",
      "{'compound': -0.8429, 'neg': 0.332, 'neu': 0.585, 'pos': 0.083}\n",
      "------------\n",
      "\"@kirstiealley my dentist is great but she's expensive...=(\"\n",
      "{'compound': 0.3716, 'neg': 0.0, 'neu': 0.733, 'pos': 0.267}\n",
      "------------\n",
      "('@kirstiealley Pet Dentist '\n",
      " 'http://www.funnyville.com/fv/pictures/dogdentures.shtml')\n",
      "{'compound': 0.0, 'neg': 0.0, 'neu': 1.0, 'pos': 0.0}\n",
      "------------\n",
      "'is studing math ;) tomorrow exam and dentist :)'\n",
      "{'compound': 0.5994, 'neg': 0.0, 'neu': 0.588, 'pos': 0.412}\n",
      "------------\n",
      "'my dentist was wrong... WRONG'\n",
      "{'compound': -0.5904, 'neg': 0.489, 'neu': 0.511, 'pos': 0.0}\n",
      "------------\n",
      "'Going to the dentist later.:|'\n",
      "{'compound': 0.0, 'neg': 0.0, 'neu': 1.0, 'pos': 0.0}\n",
      "------------\n",
      "('Son has me looking at cars online.  I hate car shopping.  Would rather go to '\n",
      " 'the dentist!  Anyone with a good car at a good price to sell?')\n",
      "{'compound': 0.3382, 'neg': 0.116, 'neu': 0.692, 'pos': 0.192}\n",
      "------------\n",
      "'My dentist appt today was actually quite enjoyable.'\n",
      "{'compound': 0.4927, 'neg': 0.0, 'neu': 0.687, 'pos': 0.313}\n",
      "------------\n",
      "'I hate the effing dentist.'\n",
      "{'compound': -0.5719, 'neg': 0.552, 'neu': 0.448, 'pos': 0.0}\n",
      "------------\n",
      "'@stevemoakler i had a dentist appt this morning and had the same conversation!'\n",
      "{'compound': 0.0, 'neg': 0.0, 'neu': 1.0, 'pos': 0.0}\n",
      "------------\n",
      "'@kirstiealley I hate going to the dentist.. !!!'\n",
      "{'compound': -0.6784, 'neg': 0.433, 'neu': 0.567, 'pos': 0.0}\n",
      "------------\n",
      "'i hate the dentist....who invented them anyways?'\n",
      "{'compound': -0.5719, 'neg': 0.425, 'neu': 0.575, 'pos': 0.0}\n",
      "------------\n",
      "\"this dentist's office is cold :/\"\n",
      "{'compound': -0.34, 'neg': 0.324, 'neu': 0.676, 'pos': 0.0}\n",
      "------------\n",
      "'Check this video out -- David After Dentist http://bit.ly/47aW2'\n",
      "{'compound': 0.0, 'neg': 0.0, 'neu': 1.0, 'pos': 0.0}\n",
      "------------\n",
      "'First dentist appointment [in years] on Wednesday possibly.'\n",
      "{'compound': 0.0, 'neg': 0.0, 'neu': 1.0, 'pos': 0.0}\n",
      "------------\n",
      "Average compund value: -0.11730000000000002\n"
     ]
    }
   ],
   "source": [
    "sents = get_sents('dentist')\n",
    "comp = 0\n",
    "for sent in sents:\n",
    "  pprint(sent)\n",
    "  vader_analyzer = SentimentIntensityAnalyzer()\n",
    "  values = vader_analyzer.polarity_scores(sent)\n",
    "  pprint(values)\n",
    "  comp += values['compound']\n",
    "  print(\"------------\")\n",
    "\n",
    "print(\"Average compund value:\", comp/len(sents))"
   ]
  },
  {
   "cell_type": "code",
   "execution_count": null,
   "metadata": {
    "id": "ucAAAlVtPdWw"
   },
   "outputs": [],
   "source": []
  }
 ],
 "metadata": {
  "colab": {
   "collapsed_sections": [],
   "name": "sudhi-lecture4-nltk-sentiment.ipynb",
   "provenance": [],
   "toc_visible": true
  },
  "kernelspec": {
   "display_name": "Python 3",
   "language": "python",
   "name": "python3"
  },
  "language_info": {
   "codemirror_mode": {
    "name": "ipython",
    "version": 3
   },
   "file_extension": ".py",
   "mimetype": "text/x-python",
   "name": "python",
   "nbconvert_exporter": "python",
   "pygments_lexer": "ipython3",
   "version": "3.7.0"
  }
 },
 "nbformat": 4,
 "nbformat_minor": 1
}
